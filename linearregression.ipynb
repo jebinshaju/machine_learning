{
  "nbformat": 4,
  "nbformat_minor": 0,
  "metadata": {
    "colab": {
      "provenance": [],
      "toc_visible": true,
      "mount_file_id": "1zkY9ngoIcNYoPZAiZHsRVysWONSgO_QY",
      "authorship_tag": "ABX9TyOeNFg5Eo2XhJjRfzpue9Oy",
      "include_colab_link": true
    },
    "kernelspec": {
      "name": "python3",
      "display_name": "Python 3"
    },
    "language_info": {
      "name": "python"
    }
  },
  "cells": [
    {
      "cell_type": "markdown",
      "metadata": {
        "id": "view-in-github",
        "colab_type": "text"
      },
      "source": [
        "<a href=\"https://colab.research.google.com/github/jebinshaju/machine_learning/blob/main/algorithm.ipynb\" target=\"_parent\"><img src=\"https://colab.research.google.com/assets/colab-badge.svg\" alt=\"Open In Colab\"/></a>"
      ]
    },
    {
      "cell_type": "markdown",
      "source": [
        "machine learning"
      ],
      "metadata": {
        "id": "-QhoktYm_yhZ"
      }
    },
    {
      "cell_type": "code",
      "source": [
        "from google.colab import drive\n",
        "drive.mount('/content/drive')"
      ],
      "metadata": {
        "colab": {
          "base_uri": "https://localhost:8080/"
        },
        "id": "_MKpqNZc_WcR",
        "outputId": "8e3042d0-1444-48b1-f92a-1ec09a32a135"
      },
      "execution_count": null,
      "outputs": [
        {
          "output_type": "stream",
          "name": "stdout",
          "text": [
            "Mounted at /content/drive\n"
          ]
        }
      ]
    },
    {
      "cell_type": "code",
      "source": [
        "import pandas as pd\n",
        "from sklearn.model_selection import train_test_split\n",
        "from sklearn.linear_model import LinearRegression\n",
        "from sklearn.metrics import accuracy_score\n",
        "\n",
        "df =pd.read_csv(\"/content/drive/MyDrive/data set/winedata.csv\")\n",
        "x= df.iloc[:,[0,1]]\n",
        "y=df.iloc[:,[2]]\n",
        "\n",
        "x_train,x_test,y_train,y_test= train_test_split(x,y,test_size=0.3,random_state=0)\n",
        "\n",
        "regressor = LinearRegression()\n",
        "o=regressor.fit(x_train,y_train)\n",
        "y_pred = regressor.predict(x_test)\n",
        "#print(y_pred)\n",
        "#print(x_test)\n",
        "#print(y_test)\n",
        "#print(x_train)\n",
        "#print(y_train)\n",
        "\n",
        "y_test = y_test.astype(int)\n",
        "y_pred = y_pred.astype(int)\n",
        "a= accuracy_score(y_test,y_pred)*100\n",
        "print(\"Accuracy \",a)\n",
        "\n",
        "a= float(input(\"Enter the amount of alcohol: \"))\n",
        "b= float(input(\"Enter acidity: \"))\n",
        "data = [[a,b]]\n",
        "df1= pd.DataFrame(data,columns=[\"alcohol\",\"acidity\"])\n",
        "o= regressor.predict(df1)\n",
        "\n",
        "if o > 0.5:\n",
        "  print(\"Yes it is wine.\")\n",
        "else:\n",
        "  print(\"It is not wine.\")"
      ],
      "metadata": {
        "colab": {
          "base_uri": "https://localhost:8080/"
        },
        "id": "6Phe9ddG_48h",
        "outputId": "e3bf5699-daaa-4fb0-a0eb-c9f5bb577b94"
      },
      "execution_count": 1,
      "outputs": [
        {
          "output_type": "stream",
          "name": "stdout",
          "text": [
            "Accuracy  80.0\n",
            "Enter the amount of alcohol: 6\n",
            "Enter acidity: 4\n",
            "It is not wine.\n"
          ]
        }
      ]
    }
  ]
}
